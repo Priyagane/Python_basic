{
  "nbformat": 4,
  "nbformat_minor": 0,
  "metadata": {
    "colab": {
      "name": "Py_modules.ipynb",
      "provenance": [],
      "mount_file_id": "1gxA0XXfGUEBHOffFYA0qQl1_dTK_VxbT",
      "authorship_tag": "ABX9TyM5fSuqjLpN3FgbLC/GeCpj",
      "include_colab_link": true
    },
    "kernelspec": {
      "name": "python3",
      "display_name": "Python 3"
    },
    "language_info": {
      "name": "python"
    }
  },
  "cells": [
    {
      "cell_type": "markdown",
      "metadata": {
        "id": "view-in-github",
        "colab_type": "text"
      },
      "source": [
        "<a href=\"https://colab.research.google.com/github/Priyagane/Python_basic/blob/main/Py_modules.ipynb\" target=\"_parent\"><img src=\"https://colab.research.google.com/assets/colab-badge.svg\" alt=\"Open In Colab\"/></a>"
      ]
    },
    {
      "cell_type": "code",
      "execution_count": 64,
      "metadata": {
        "colab": {
          "base_uri": "https://localhost:8080/"
        },
        "id": "PArUx12G2EEJ",
        "outputId": "3f555dea-0f93-4ac3-e60d-dab3a1682500"
      },
      "outputs": [
        {
          "output_type": "stream",
          "name": "stdout",
          "text": [
            "Hello, priya\n"
          ]
        }
      ],
      "source": [
        "import module as k\n",
        "k.greeting('priya')"
      ]
    },
    {
      "cell_type": "code",
      "source": [
        "import datetime\n",
        "\n",
        "time_now = datetime.datetime.now()\n",
        "\n",
        "print(time_now)\n",
        "\n",
        "print(time_now.year)\n",
        "\n",
        "print(time_now.strftime(\"%A\"))\n",
        "print(time_now.strftime(\"%s\"))\n",
        "print(time_now.strftime(\"%j\"))\n",
        "print(time_now.strftime(\"%Y\"))\n",
        "\n"
      ],
      "metadata": {
        "colab": {
          "base_uri": "https://localhost:8080/"
        },
        "id": "joIPluvk6q6f",
        "outputId": "e3c3acc8-b444-418d-80cc-e14234649ec2"
      },
      "execution_count": 65,
      "outputs": [
        {
          "output_type": "stream",
          "name": "stdout",
          "text": [
            "2022-05-17 19:07:31.996244\n",
            "2022\n",
            "Tuesday\n",
            "1652814451\n",
            "137\n",
            "2022\n"
          ]
        }
      ]
    },
    {
      "cell_type": "code",
      "source": [
        "import module as t\n",
        "t.mat_add(3,6)"
      ],
      "metadata": {
        "colab": {
          "base_uri": "https://localhost:8080/",
          "height": 183
        },
        "id": "DjwmdlevUoTN",
        "outputId": "cb40bd39-bf29-48c9-ff8a-02b75b7658bc"
      },
      "execution_count": 66,
      "outputs": [
        {
          "output_type": "error",
          "ename": "AttributeError",
          "evalue": "ignored",
          "traceback": [
            "\u001b[0;31m---------------------------------------------------------------------------\u001b[0m",
            "\u001b[0;31mAttributeError\u001b[0m                            Traceback (most recent call last)",
            "\u001b[0;32m<ipython-input-66-82c09919bc24>\u001b[0m in \u001b[0;36m<module>\u001b[0;34m()\u001b[0m\n\u001b[1;32m      1\u001b[0m \u001b[0;32mimport\u001b[0m \u001b[0mmodule\u001b[0m \u001b[0;32mas\u001b[0m \u001b[0mt\u001b[0m\u001b[0;34m\u001b[0m\u001b[0;34m\u001b[0m\u001b[0m\n\u001b[0;32m----> 2\u001b[0;31m \u001b[0mt\u001b[0m\u001b[0;34m.\u001b[0m\u001b[0mmat_add\u001b[0m\u001b[0;34m(\u001b[0m\u001b[0;36m3\u001b[0m\u001b[0;34m,\u001b[0m\u001b[0;36m6\u001b[0m\u001b[0;34m)\u001b[0m\u001b[0;34m\u001b[0m\u001b[0;34m\u001b[0m\u001b[0m\n\u001b[0m",
            "\u001b[0;31mAttributeError\u001b[0m: module 'module' has no attribute 'mat_add'"
          ]
        }
      ]
    },
    {
      "cell_type": "code",
      "source": [
        "from object1 import Robot\n",
        "\n",
        "Robot(' EVA').say_hi()\n"
      ],
      "metadata": {
        "colab": {
          "base_uri": "https://localhost:8080/"
        },
        "id": "AGUY7XyjbOdT",
        "outputId": "b6725fe1-dbfc-444e-89dd-c1678ce2b398"
      },
      "execution_count": 84,
      "outputs": [
        {
          "output_type": "stream",
          "name": "stdout",
          "text": [
            "(Inirializing EVA\n",
            "Greetings,my master call me EVA\n"
          ]
        }
      ]
    },
    {
      "cell_type": "code",
      "source": [
        "new_date = datetime.datetime(2020,5,17)\n",
        "print(new_date.strftime(\"%d %b %Y\"))"
      ],
      "metadata": {
        "colab": {
          "base_uri": "https://localhost:8080/"
        },
        "id": "-jC79cRy7t2s",
        "outputId": "4ec5bd37-6089-4e0b-9365-5d128f401a29"
      },
      "execution_count": null,
      "outputs": [
        {
          "output_type": "stream",
          "name": "stdout",
          "text": [
            "17 May 2020\n"
          ]
        }
      ]
    },
    {
      "cell_type": "code",
      "source": [
        "import math\n",
        "\n",
        "sq_root = math.sqrt(64)\n",
        "print(sq_root)"
      ],
      "metadata": {
        "colab": {
          "base_uri": "https://localhost:8080/"
        },
        "id": "O0b1HbhFK5W9",
        "outputId": "099ebd3d-2389-4076-91b9-f8a8477fb473"
      },
      "execution_count": null,
      "outputs": [
        {
          "output_type": "stream",
          "name": "stdout",
          "text": [
            "8.0\n"
          ]
        }
      ]
    },
    {
      "cell_type": "code",
      "source": [
        "round_high=math.ceil(1.4)\n",
        "round_lower=math.floor(1.4)\n",
        "\n",
        "print(round_high)\n",
        "print(round_lower)"
      ],
      "metadata": {
        "colab": {
          "base_uri": "https://localhost:8080/"
        },
        "id": "deNZayQn9YVQ",
        "outputId": "b7028f4c-f41f-4ee9-eee5-94ed474ca5ea"
      },
      "execution_count": null,
      "outputs": [
        {
          "output_type": "stream",
          "name": "stdout",
          "text": [
            "2\n",
            "1\n"
          ]
        }
      ]
    },
    {
      "cell_type": "code",
      "source": [
        "pi_value=math.pi\n",
        "print(pi_value)"
      ],
      "metadata": {
        "colab": {
          "base_uri": "https://localhost:8080/"
        },
        "id": "eB_Kr5v0LecI",
        "outputId": "0f0bed81-af51-49b7-ce43-ac00e67eaaa1"
      },
      "execution_count": null,
      "outputs": [
        {
          "output_type": "stream",
          "name": "stdout",
          "text": [
            "3.141592653589793\n"
          ]
        }
      ]
    },
    {
      "cell_type": "code",
      "source": [
        "import random\n",
        "\n",
        "#random_integer= random.randrange(9)\n",
        "random_integer= random.getstate()\n",
        "#random_int= random.randrange(6,9)\n",
        "print(random_integer,random_int)"
      ],
      "metadata": {
        "colab": {
          "base_uri": "https://localhost:8080/"
        },
        "id": "XylPRX1SLmZq",
        "outputId": "42c7d491-4df9-4c80-a4d8-cf241c5e314a"
      },
      "execution_count": null,
      "outputs": [
        {
          "output_type": "stream",
          "name": "stdout",
          "text": [
            "(3, (2820715160, 893665203, 4109022904, 1606610320, 2342253258, 1891348608, 1108269622, 1423196396, 3028525874, 1303675140, 3490762450, 964681514, 2654993781, 2447823107, 3624331039, 2962613822, 477389334, 2809547126, 4184401833, 1391783801, 2949316504, 1171258019, 4060836393, 1731353128, 2219485935, 1195384666, 1163534747, 1154922268, 1844039451, 548416303, 1770978641, 2188589147, 1209679094, 2252261136, 1961598915, 2510123230, 1622761740, 3014197155, 1417930536, 4722170, 3593667134, 2192869134, 967596500, 1221370203, 2381317272, 1955738962, 2497590433, 3529589471, 526638865, 4099635777, 2184939523, 3505946957, 2545856558, 3296597920, 1695811753, 2493882701, 162233971, 3098521558, 1476859351, 1472668006, 4252533408, 2928575903, 457936364, 3527087576, 3058286149, 2736974787, 2351817844, 350718843, 350972397, 1500513774, 1858000597, 845565148, 1159365454, 2313252935, 2454552527, 2840733230, 2533936080, 3816311266, 984069524, 1080842387, 3029142695, 2349823195, 419818758, 3799522212, 3982599711, 3212100248, 3566668627, 780050004, 2510374756, 1747201416, 986108978, 2898529753, 2877815337, 3512599969, 1019781983, 1418311826, 2680599742, 523835627, 1467935476, 515282629, 1529802422, 488478626, 3489291883, 1330017774, 453795862, 3918839577, 534270304, 3956253346, 4197334965, 3665956158, 2331103679, 1415508314, 2431586771, 2991339690, 3788217640, 2356251437, 2148265157, 1366576789, 7728359, 3444336366, 2552391272, 1944504278, 3089535912, 3166349575, 726722437, 2336865732, 88127265, 2815565208, 2741755265, 3725610017, 3209278109, 3913163600, 894630862, 1258867896, 1191082050, 2612018795, 471140820, 3980769655, 2882296023, 2806985542, 3722121855, 99146702, 269314617, 453481787, 345706543, 2445377197, 2378641168, 3491696901, 648343276, 1921138146, 82354835, 1112225585, 2813690822, 2455420014, 301917711, 2311428425, 3805480687, 2665149702, 3802564488, 2183550946, 1230147458, 3638468537, 1441405574, 1447371254, 1867120434, 6250482, 2068796445, 3194068828, 2383122265, 3050245850, 2307933254, 3975795988, 3520823703, 2587000693, 3034786888, 3349353918, 3517067329, 1447483603, 2465729203, 3334923426, 681765537, 1989734765, 3223112855, 3884774398, 3932385797, 2874723216, 1977994018, 4069923082, 1894722286, 660588975, 3573247804, 3313248698, 3596201508, 2350372105, 2640928297, 3860266330, 3640279810, 2419301396, 2205747510, 1240179874, 2812122590, 1969176863, 4126760696, 3427680320, 1523807696, 1545468341, 3361374251, 1037927858, 384005891, 1633701194, 811947634, 3865530592, 1744003459, 3028940452, 1144763663, 4284070425, 3083226706, 3821363058, 2242697814, 3747130255, 675647605, 217646321, 3490337849, 2153889339, 3283859733, 1880420969, 3938104601, 3082791622, 2509666825, 1465275732, 2256713113, 2997687113, 3394963766, 3868273703, 801826782, 3188790750, 2964519570, 3025936026, 3361783922, 3000963636, 849936456, 2623122101, 749062090, 3926006449, 1906141679, 3041735095, 3398259520, 3665579486, 1071010116, 2103434158, 3151138849, 3348864678, 3538927705, 3800847061, 871104524, 3918754980, 2623854506, 3061673452, 2052388156, 3099997090, 1953441751, 4058337826, 916544704, 3996421772, 2093506175, 71767388, 531476023, 2883617317, 3268086082, 84013755, 2910746485, 2049519674, 2070294049, 1966316113, 210241451, 112832537, 2347129875, 1383307855, 1456376409, 3655281889, 4049985340, 4164940741, 2473043407, 2957870200, 3762382658, 1039966644, 2958520978, 2569343560, 3120027661, 2257882517, 4177107485, 1970057339, 4032210837, 4282851694, 871021059, 869130145, 122785973, 1375955759, 3960617248, 2849728215, 2509956826, 722534428, 2470945822, 2073123081, 351905686, 4024753217, 1855721355, 3984445722, 800664705, 4250338153, 4166378343, 3037822964, 2364642538, 361054050, 1605625125, 2285481656, 1196741074, 4161319791, 2044147659, 3636594214, 4209589458, 3988456464, 384857497, 3126159520, 4043410254, 2950988828, 842619665, 1277180315, 1857300730, 2817957152, 790746328, 2361605313, 3796866722, 3514732821, 244219592, 1880117221, 292781969, 1093505763, 566051062, 3225699431, 2592703102, 2770918897, 540050918, 2474821128, 1769156191, 3682849965, 3442746274, 3223991483, 1907825919, 1110130539, 150324888, 3694028591, 1118591495, 983978069, 3123968591, 698375863, 3473248209, 549073022, 883229394, 1914766593, 1130854175, 1064800622, 568408032, 2731440298, 4078699615, 885697327, 22838186, 467733205, 426961784, 692212268, 911948611, 888714990, 2110244061, 1955384080, 3375158330, 3409294087, 4051897298, 4177420295, 87358552, 3038419391, 3258208844, 1431377417, 4132793538, 1919520717, 3497257707, 4350741, 2510007172, 4233524373, 1798073651, 613774559, 3225985751, 644722022, 100193222, 3931145438, 1813378318, 3963906027, 3535158306, 1891697222, 3788363957, 1628247409, 3925535066, 2025250590, 1520800835, 2417518601, 955540377, 983037635, 3150154211, 702827968, 1080137518, 559455266, 1713332002, 1538488213, 2959681120, 1683015233, 2812156615, 2155899633, 814438307, 1636893077, 2148704093, 2224946668, 3235367352, 3648736474, 2853041053, 881899929, 1109166620, 3638466014, 3074099579, 1124815150, 1157202197, 2741297409, 1066048420, 3208823430, 3723083876, 3686743826, 3773811169, 3565315885, 2494157175, 2954721191, 369574018, 3892806842, 2801079624, 366703698, 32393717, 2108111904, 468704469, 2410783835, 2932270605, 3508822447, 3455315960, 3824630404, 649050785, 1104636161, 2409225805, 2083203540, 3598467741, 2162020398, 2389247278, 734191788, 2427784324, 3937310143, 1992049588, 1888403573, 1774889873, 193848282, 2138954297, 3021794120, 2494789767, 1536070604, 174341665, 212320599, 2437934614, 2298994019, 3725878699, 2307986875, 2703934162, 240008423, 1825741535, 3793509534, 2057739250, 3044117906, 951547987, 290158840, 1560255970, 1135369739, 1068371477, 1901014929, 2213212222, 724188501, 758820468, 2085357868, 2509401894, 1672690904, 4176297387, 1849301687, 4117819149, 1443422398, 3523168803, 466619861, 2704946500, 2932221679, 3773468757, 561395423, 2882560546, 2154986028, 2578988086, 1884567995, 1044713303, 3844524584, 448697453, 3745967525, 2294295146, 2745980954, 1907582534, 2292904589, 1672112259, 1686351792, 1410169243, 1698405271, 2470558088, 1221443112, 4294607576, 2500997352, 4223699196, 3984892197, 1160198944, 3382846797, 2225661483, 1911937368, 4125598006, 1894926561, 1358113808, 464482630, 2105440832, 3052891685, 1960951962, 1221799635, 2831255761, 4287274646, 522288881, 645199379, 2725981764, 2563695500, 1274541912, 864147363, 2521596274, 2582728758, 3806322903, 841264263, 2449418722, 3790094683, 2760747100, 3024032536, 3282260455, 2504792876, 3732163881, 4028614186, 2169214427, 1911469322, 2132152972, 974602254, 6287617, 1207999473, 411838019, 1301785345, 1527753099, 923987773, 1187481664, 2668018776, 4260924935, 2893953521, 4152135084, 1372635904, 2401787437, 365512738, 3517252935, 3126946921, 1213597232, 1533107725, 670677356, 1523508551, 1851836570, 1003250084, 2417323446, 4264254189, 3741085215, 2784919744, 1652130232, 925063307, 780590095, 339017376, 2639291702, 2698597699, 4284210813, 3706728000, 1611860502, 3293575293, 2962227991, 1848850895, 2035931945, 2184849777, 3545968699, 3538913457, 3048135627, 3425225502, 868102787, 4286782244, 2444886903, 3076201664, 210657393, 1621632324, 3160359294, 2713447497, 470459449, 3149494564, 1685053338, 4006032697, 3441966897, 679036332, 2261009299, 1629679802, 1079137936, 1259287297, 3196102365, 2259051886, 62), None) 6\n"
          ]
        }
      ]
    },
    {
      "cell_type": "code",
      "source": [
        "import math\n",
        "fact_value=math.factorial(6)\n",
        "print(fact_value)"
      ],
      "metadata": {
        "colab": {
          "base_uri": "https://localhost:8080/"
        },
        "id": "TeAykjXAMOqz",
        "outputId": "238682a0-dbb6-401d-af0b-ba2ecf1e8ab8"
      },
      "execution_count": null,
      "outputs": [
        {
          "output_type": "stream",
          "name": "stdout",
          "text": [
            "720\n"
          ]
        }
      ]
    },
    {
      "cell_type": "code",
      "source": [
        "import math\n",
        "f = math.pow(2,3)\n",
        "print(f)"
      ],
      "metadata": {
        "colab": {
          "base_uri": "https://localhost:8080/"
        },
        "id": "w259AogHMjNQ",
        "outputId": "2ca2f66e-7529-47ca-9f66-79d4ee8a9248"
      },
      "execution_count": 58,
      "outputs": [
        {
          "output_type": "stream",
          "name": "stdout",
          "text": [
            "8.0\n"
          ]
        }
      ]
    },
    {
      "cell_type": "code",
      "source": [
        "import math\n",
        "print(math.lcm(6,4,8))\n",
        "#print(lcm_value)"
      ],
      "metadata": {
        "colab": {
          "base_uri": "https://localhost:8080/",
          "height": 201
        },
        "id": "9F7R9qJrMzEK",
        "outputId": "e125f414-5155-4c13-9ef2-c944bd131593"
      },
      "execution_count": null,
      "outputs": [
        {
          "output_type": "error",
          "ename": "AttributeError",
          "evalue": "ignored",
          "traceback": [
            "\u001b[0;31m---------------------------------------------------------------------------\u001b[0m",
            "\u001b[0;31mAttributeError\u001b[0m                            Traceback (most recent call last)",
            "\u001b[0;32m<ipython-input-45-e87c98456f4b>\u001b[0m in \u001b[0;36m<module>\u001b[0;34m()\u001b[0m\n\u001b[1;32m      1\u001b[0m \u001b[0;32mimport\u001b[0m \u001b[0mmath\u001b[0m\u001b[0;34m\u001b[0m\u001b[0;34m\u001b[0m\u001b[0m\n\u001b[0;32m----> 2\u001b[0;31m \u001b[0mprint\u001b[0m\u001b[0;34m(\u001b[0m\u001b[0mmath\u001b[0m\u001b[0;34m.\u001b[0m\u001b[0mlcm\u001b[0m\u001b[0;34m(\u001b[0m\u001b[0;36m6\u001b[0m\u001b[0;34m,\u001b[0m\u001b[0;36m4\u001b[0m\u001b[0;34m,\u001b[0m\u001b[0;36m8\u001b[0m\u001b[0;34m)\u001b[0m\u001b[0;34m)\u001b[0m\u001b[0;34m\u001b[0m\u001b[0;34m\u001b[0m\u001b[0m\n\u001b[0m\u001b[1;32m      3\u001b[0m \u001b[0;31m#print(lcm_value)\u001b[0m\u001b[0;34m\u001b[0m\u001b[0;34m\u001b[0m\u001b[0;34m\u001b[0m\u001b[0m\n",
            "\u001b[0;31mAttributeError\u001b[0m: module 'math' has no attribute 'lcm'"
          ]
        }
      ]
    },
    {
      "cell_type": "code",
      "source": [
        "file_path = '/content/drive/MyDrive/Machine_Learning_AI.txt'"
      ],
      "metadata": {
        "id": "F-H62P4KiHwO"
      },
      "execution_count": 85,
      "outputs": []
    },
    {
      "cell_type": "code",
      "source": [
        "with open('new_file1.txt','x') as file_to_write:\n",
        "  file_to_write.write('creating a file')\n",
        "  file_to_write.write('just for fun')"
      ],
      "metadata": {
        "id": "QQZ83vpXiINl"
      },
      "execution_count": 89,
      "outputs": []
    },
    {
      "cell_type": "code",
      "source": [
        "file_path=\"/content/drive/MyDrive/Machine_Learning_AI.txt\"\n",
        "our_text_file=open(file_path,\"r\")\n",
        "print(our_text_file.name)\n",
        "print(our_text_file.mode)"
      ],
      "metadata": {
        "colab": {
          "base_uri": "https://localhost:8080/"
        },
        "id": "V6cRIHQliIPr",
        "outputId": "93047f88-80ed-485c-c318-bd723f0f75a7"
      },
      "execution_count": 2,
      "outputs": [
        {
          "output_type": "stream",
          "name": "stdout",
          "text": [
            "/content/drive/MyDrive/Machine_Learning_AI.txt\n",
            "r\n"
          ]
        }
      ]
    },
    {
      "cell_type": "code",
      "source": [
        "our_text_file.close()"
      ],
      "metadata": {
        "id": "8L5wB-7q4jpo"
      },
      "execution_count": 3,
      "outputs": []
    },
    {
      "cell_type": "code",
      "source": [
        "with open(\"/content/drive/MyDrive/Machine_Learning_AI.txt\") as active_file:\n",
        "\n",
        "  file_content = active_file.read()\n",
        " print(file_content)"
      ],
      "metadata": {
        "colab": {
          "base_uri": "https://localhost:8080/",
          "height": 131
        },
        "id": "F2uPuk_g4q0Y",
        "outputId": "ae06ceaf-d5dd-43c9-fe32-fd8f4019ae8b"
      },
      "execution_count": 49,
      "outputs": [
        {
          "output_type": "error",
          "ename": "IndentationError",
          "evalue": "ignored",
          "traceback": [
            "\u001b[0;36m  File \u001b[0;32m\"<ipython-input-49-f8d7dc836b8b>\"\u001b[0;36m, line \u001b[0;32m4\u001b[0m\n\u001b[0;31m    print(file_content)\u001b[0m\n\u001b[0m                       ^\u001b[0m\n\u001b[0;31mIndentationError\u001b[0m\u001b[0;31m:\u001b[0m unindent does not match any outer indentation level\n"
          ]
        }
      ]
    },
    {
      "cell_type": "code",
      "source": [
        "print(active_file.closed)"
      ],
      "metadata": {
        "colab": {
          "base_uri": "https://localhost:8080/"
        },
        "id": "gJAzHjTF5z9n",
        "outputId": "0f759904-7756-4757-e7da-bac93b1dcb2c"
      },
      "execution_count": 24,
      "outputs": [
        {
          "output_type": "stream",
          "name": "stdout",
          "text": [
            "True\n"
          ]
        }
      ]
    },
    {
      "cell_type": "code",
      "source": [
        "# with open('new_file.txt','x') as file_to_write:\n",
        "#   file_to_write.write('this is line 0\\n')\n",
        "#   file_to_write.write('this is line 1\\n')\n",
        "#   #file_to_write.readlines()\n",
        "with open('/content/new_file.txt') as read_file:\n",
        " \n",
        "  #print(read_file.read())\n",
        "  #read_files=read_file.readlines()\n",
        "  print(read_file.readlines())"
      ],
      "metadata": {
        "colab": {
          "base_uri": "https://localhost:8080/"
        },
        "id": "Fe7myPjf6vvF",
        "outputId": "31aaa4fa-6864-4699-8d1f-2925181f0966"
      },
      "execution_count": 58,
      "outputs": [
        {
          "output_type": "stream",
          "name": "stdout",
          "text": [
            "['this is line 0\\n', 'this is line 1\\n']\n"
          ]
        }
      ]
    },
    {
      "cell_type": "code",
      "source": [
        "\n"
      ],
      "metadata": {
        "id": "zNv7L7NiFHkH"
      },
      "execution_count": 58,
      "outputs": []
    },
    {
      "cell_type": "code",
      "source": [
        "print(read_file.closed)"
      ],
      "metadata": {
        "colab": {
          "base_uri": "https://localhost:8080/"
        },
        "id": "4kF9AkyX7G0X",
        "outputId": "7476490f-afa8-4fdc-b4e6-f93914f1b45c"
      },
      "execution_count": 48,
      "outputs": [
        {
          "output_type": "stream",
          "name": "stdout",
          "text": [
            "True\n"
          ]
        }
      ]
    },
    {
      "cell_type": "code",
      "source": [
        "write_line = open(\"new_file3.txt\",'w+')\n",
        "write_line.write(\"Sample text1\\n\")\n",
        "write_line.write(\"sample text2\\n\")\n",
        "# write_line.close()\n",
        "# write_line=open(\"new_file3.txt\",'r')\n",
        "#print(write_line.read())\n",
        "print(write_line.mode)\n",
        "print(write_line.readlines())"
      ],
      "metadata": {
        "colab": {
          "base_uri": "https://localhost:8080/"
        },
        "id": "MBKSMjpiD8Q3",
        "outputId": "19dc0d5f-1b76-4984-ede7-4c9351f5cb11"
      },
      "execution_count": 76,
      "outputs": [
        {
          "output_type": "stream",
          "name": "stdout",
          "text": [
            "w+\n",
            "[]\n"
          ]
        }
      ]
    },
    {
      "cell_type": "code",
      "source": [
        "def main():\n",
        "  f = open(\"newtxt_file1.txt\",\"w+\")\n",
        "  for i in range(10):\n",
        "    \n",
        "    f.write(\"This is line %d\\r\\n\" %(i+1))\n",
        "\n",
        "  f.close()\n",
        "  f = open(\"newtxt_file1.txt\",\"r\")\n",
        "  if f.mode == \"r\":\n",
        "      content = f.read()\n",
        "      print(content)\n",
        "  # f1 = f.readlines()\n",
        "  # for x in f1:\n",
        "  #  print(x)\n",
        "\n",
        "#if __name__==\"__main__\":\n",
        "main()\n"
      ],
      "metadata": {
        "colab": {
          "base_uri": "https://localhost:8080/"
        },
        "id": "Q97HPID2qQRF",
        "outputId": "64adc05f-a4a3-474e-d027-bcc1f9b1eca1"
      },
      "execution_count": 143,
      "outputs": [
        {
          "output_type": "stream",
          "name": "stdout",
          "text": [
            "[]\n",
            "[]\n",
            "[]\n",
            "[]\n",
            "[]\n",
            "[]\n",
            "[]\n",
            "[]\n",
            "[]\n",
            "[]\n",
            "This is line 1\n",
            "This is line 2\n",
            "This is line 3\n",
            "This is line 4\n",
            "This is line 5\n",
            "This is line 6\n",
            "This is line 7\n",
            "This is line 8\n",
            "This is line 9\n",
            "This is line 10\n",
            "\n"
          ]
        }
      ]
    },
    {
      "cell_type": "code",
      "source": [
        " \n",
        "\n",
        "  \n",
        "def main(file_name):\n",
        "\n",
        "  with open(file_name,\"w\") as f:\n",
        "    for i in range(10):\n",
        "    \n",
        "      f.write(\"This is line %d\\r\\n\" %(i+1))\n",
        "\n",
        "\n",
        "main('file')\n",
        "\n",
        "      "
      ],
      "metadata": {
        "id": "XiWbprlGvYsx"
      },
      "execution_count": 121,
      "outputs": []
    },
    {
      "cell_type": "code",
      "source": [
        "with open(\"/content/drive/MyDrive/Machine_Learning_AI.txt\",\"r\") as active_file:\n",
        "  \n",
        "  # convert file content to a list\n",
        "  #file_content_list = active_file.readlines()\n",
        "\n",
        "  # output single elements from the list \n",
        "  # (they correspond to lines of the text file)\n",
        "  # print(file_content_list[0]) # prints the 1st line\n",
        "  # print(file_content_list[10]) # prints the 11th line\n",
        "  # print(file_content_list[54])\n",
        "  #print(active_file.read()[0])\n",
        "  print(active_file.readlines()[4][0])"
      ],
      "metadata": {
        "colab": {
          "base_uri": "https://localhost:8080/"
        },
        "id": "bbwY1BMU3ftR",
        "outputId": "a4b41c51-742f-4d8c-d27a-c1ad736477bb"
      },
      "execution_count": 139,
      "outputs": [
        {
          "output_type": "stream",
          "name": "stdout",
          "text": [
            "I\n"
          ]
        }
      ]
    },
    {
      "cell_type": "code",
      "source": [
        "file = open('/content/drive/MyDrive/Machine_Learning_AI.txt','a+')"
      ],
      "metadata": {
        "id": "JGdbJzG_3fzC"
      },
      "execution_count": 168,
      "outputs": []
    },
    {
      "cell_type": "code",
      "source": [
        "file.write('fghjertyu')"
      ],
      "metadata": {
        "colab": {
          "base_uri": "https://localhost:8080/"
        },
        "id": "DRAGTLGq91wg",
        "outputId": "aefde259-53f9-42e5-ad86-d8719e2b02ab"
      },
      "execution_count": 169,
      "outputs": [
        {
          "output_type": "execute_result",
          "data": {
            "text/plain": [
              "9"
            ]
          },
          "metadata": {},
          "execution_count": 169
        }
      ]
    },
    {
      "cell_type": "code",
      "source": [
        "file = open('/content/drive/MyDrive/Machine_Learning_AI.txt','r')"
      ],
      "metadata": {
        "id": "l0dfW8SO-Yay"
      },
      "execution_count": 171,
      "outputs": []
    },
    {
      "cell_type": "code",
      "source": [
        "file.read()"
      ],
      "metadata": {
        "colab": {
          "base_uri": "https://localhost:8080/",
          "height": 209
        },
        "id": "4zU8V-j8-qgN",
        "outputId": "5efc0166-1bc7-43cf-d54a-be7330c84e1f"
      },
      "execution_count": 172,
      "outputs": [
        {
          "output_type": "execute_result",
          "data": {
            "text/plain": [
              "'Unit 1: Introduction To Python - \\n\\nIntro to the Python Programming language\\nControl structures and functions\\nImporting libraries - Numpy and Pandas Basics\\nData wrangling and cleaning\\nExploratory Data Analysis and descriptive statistics\\n\\nUnit 2: Database Management - \\n\\nIntroduction to Databases and SQL\\nRetrieving data with SQL\\nWriting SQL Queries\\nFunctions and aggregations\\nJoins in SQL\\n\\nUnit 3: Statistics and Data Visualisation - \\n\\nData Visualisation using matplotlib/seaborn\\nPlotting Data distributions\\nIntroduction to probability\\nDiscrete and Continuous probability distributions\\nInferential Statistics and Hypothesis testing\\n\\nUnit 4: Machine Learning:\\n\\nIntroduction to machine learning models \\nSimple and Multiple Regression Models\\nLogistic Regression\\nROC and AUC analysis\\nKNN and Naive Bayes classifier\\nSVM Classification and Regression\\nTree Based models:\\n- Decision trees\\n- Truncation and pruning\\n- Random Forests and Bagged models\\n- Gradient Boosted models\\nFeature selection methods \\nModel evaluation and hyper parameter tuning \\nUnsupervised Learning:\\n- Clustering (K means and Hierarchical)\\n- Principal Component Analysis\\nRecommender Systems\\n\\nUnit 5 - Artificial Intelligence:\\n\\nIntro to Neural Networks\\nTypes of Neural Networks\\nImage classification\\nDeep Learning Neural Networks\\n\\nIntro to NLP\\nBasic Lexical processing\\nText classification / Topic modelling / Document summarisation\\nReinforcement Learning Models\\n\\nNotes:\\n\\nUnit 5 could probability be split in 2 depending on how comprehensive the coverage is\\n\\nfghjfghjertyufghjertyufghjertyufghjertyufghjertyufghjertyu'"
            ],
            "application/vnd.google.colaboratory.intrinsic+json": {
              "type": "string"
            }
          },
          "metadata": {},
          "execution_count": 172
        }
      ]
    },
    {
      "cell_type": "code",
      "source": [
        ""
      ],
      "metadata": {
        "id": "B7VfDwKi-x2t"
      },
      "execution_count": 172,
      "outputs": []
    }
  ]
}